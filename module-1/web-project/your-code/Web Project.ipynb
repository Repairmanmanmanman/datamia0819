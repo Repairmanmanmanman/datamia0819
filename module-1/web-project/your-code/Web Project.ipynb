{
 "cells": [
  {
   "cell_type": "code",
   "execution_count": 1,
   "metadata": {},
   "outputs": [
    {
     "data": {
      "text/plain": [
       "{'id': '1T01LBXLuzd',\n",
       " 'joke': \"Why does a Moon-rock taste better than an Earth-rock? Because it's a little meteor.\",\n",
       " 'status': 200}"
      ]
     },
     "execution_count": 1,
     "metadata": {},
     "output_type": "execute_result"
    }
   ],
   "source": [
    "import requests\n",
    "from bs4 import BeautifulSoup as bs\n",
    "import pandas as pd\n",
    "from pprint import pprint\n",
    "from lxml import html\n",
    "from lxml.html import fromstring\n",
    "import urllib.request\n",
    "from urllib.request import urlopen\n",
    "import random\n",
    "import re\n",
    "from PIL import Image\n",
    "from io import BytesIO\n",
    "import png\n",
    "\n",
    "url = 'https://icanhazdadjoke.com'\n",
    "#url = 'https://www.foaas.com/bag/:from'\n",
    "headers = {'Accept': 'application/json'}\n",
    "\n",
    "response = requests.request(\"GET\", url, headers=headers)\n",
    "request = requests.get(url)\n",
    "response.json()\n",
    "\n",
    "\n",
    "\n",
    "\n"
   ]
  },
  {
   "cell_type": "code",
   "execution_count": null,
   "metadata": {},
   "outputs": [],
   "source": [
    "import IPython\n",
    "from PIL import Image\n",
    "\n",
    "#url2 = 'https://icanhazdadjoke.com/j/oORfVv4oOCd.png'\n",
    "#dadimage = requests.get(url2)\n",
    "#IPython.display.Image(dadimage, width = 250)\n",
    "\n",
    "import tkinter as tk\n",
    "from PIL import ImageTk, Image\n",
    "import os\n",
    "import requests\n",
    "from io import BytesIO\n",
    " \n",
    "root = tk.Tk()\n",
    "img_url = \"https://icanhazdadjoke.com/j/oORfVv4oOCd.png\"\n",
    "response = requests.get(img_url)\n",
    "img_data = response.content\n",
    "img = ImageTk.PhotoImage(Image.open(BytesIO(img_data)))\n",
    "panel = tk.Label(root, image=img)\n",
    "panel.pack(side=\"bottom\", fill=\"both\", expand=\"yes\")\n",
    "root.mainloop()"
   ]
  },
  {
   "cell_type": "code",
   "execution_count": null,
   "metadata": {},
   "outputs": [],
   "source": [
    "url = 'https://api.github.com/some/endpoint'\n",
    "payload = {'some': 'data'}\n",
    "headers = {'content-type': 'application/json'}\n",
    "\n",
    "r = requests.post(url, data=json.dumps(payload), headers=headers)"
   ]
  },
  {
   "cell_type": "code",
   "execution_count": null,
   "metadata": {},
   "outputs": [],
   "source": [
    "import requests\n",
    "\n",
    "url = \"http://api.tcgplayer.com/v1.32.0/catalog/categories\"\n",
    "\n",
    "response = requests.request(\"GET\", url)\n",
    "\n",
    "print(response.text)"
   ]
  },
  {
   "cell_type": "code",
   "execution_count": null,
   "metadata": {},
   "outputs": [],
   "source": [
    "bgurl = 'https://www.boardgameatlas.com/api'"
   ]
  },
  {
   "cell_type": "code",
   "execution_count": null,
   "metadata": {},
   "outputs": [],
   "source": [
    "bgresponse = requests.request('https://www.boardgameatlas.com/api')\n",
    "bgresponse"
   ]
  },
  {
   "cell_type": "code",
   "execution_count": null,
   "metadata": {},
   "outputs": [],
   "source": []
  }
 ],
 "metadata": {
  "kernelspec": {
   "display_name": "Python 3",
   "language": "python",
   "name": "python3"
  },
  "language_info": {
   "codemirror_mode": {
    "name": "ipython",
    "version": 3
   },
   "file_extension": ".py",
   "mimetype": "text/x-python",
   "name": "python",
   "nbconvert_exporter": "python",
   "pygments_lexer": "ipython3",
   "version": "3.7.3"
  }
 },
 "nbformat": 4,
 "nbformat_minor": 2
}
