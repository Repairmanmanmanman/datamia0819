{
 "cells": [
  {
   "cell_type": "markdown",
   "metadata": {},
   "source": [
    "# Web Scraping Lab\n",
    "\n",
    "You will find in this notebook some scrapy exercises to practise your scraping skills.\n",
    "\n",
    "**Tips:**\n",
    "\n",
    "- Check the response status code for each request to ensure you have obtained the intended contennt.\n",
    "- Print the response text in each request to understand the kind of info you are getting and its format.\n",
    "- Check for patterns in the response text to extract the data/info requested in each question.\n",
    "- Visit each url and take a look at its source through Chrome DevTools. You'll need to identify the html tags, special class names etc. used for the html content you are expected to extract."
   ]
  },
  {
   "cell_type": "markdown",
   "metadata": {},
   "source": [
    "- [Requests library](http://docs.python-requests.org/en/master/#the-user-guide) documentation \n",
    "- [Beautiful Soup Doc](https://www.crummy.com/software/BeautifulSoup/bs4/doc/)\n",
    "- [Urllib](https://docs.python.org/3/library/urllib.html#module-urllib)\n",
    "- [re lib](https://docs.python.org/3/library/re.html)\n",
    "- [lxml lib](https://lxml.de/)\n",
    "- [Scrapy](https://scrapy.org/)\n",
    "- [List of HTTP status codes](https://en.wikipedia.org/wiki/List_of_HTTP_status_codes)\n",
    "- [HTML basics](http://www.simplehtmlguide.com/cheatsheet.php)\n",
    "- [CSS basics](https://www.cssbasics.com/#page_start)"
   ]
  },
  {
   "cell_type": "markdown",
   "metadata": {},
   "source": [
    "#### Below are the libraries and modules you may need. `requests`,  `BeautifulSoup` and `pandas` are imported for you. If you prefer to use additional libraries feel free to uncomment them."
   ]
  },
  {
   "cell_type": "code",
   "execution_count": 1,
   "metadata": {},
   "outputs": [],
   "source": [
    "import requests\n",
    "from bs4 import BeautifulSoup as bs\n",
    "import pandas as pd\n",
    "from pprint import pprint\n",
    "from lxml import html\n",
    "from lxml.html import fromstring\n",
    "import urllib.request\n",
    "from urllib.request import urlopen\n",
    "import random\n",
    "import re\n"
   ]
  },
  {
   "cell_type": "markdown",
   "metadata": {},
   "source": [
    "#### Download, parse (using BeautifulSoup), and print the content from the Trending Developers page from GitHub:"
   ]
  },
  {
   "cell_type": "code",
   "execution_count": 2,
   "metadata": {},
   "outputs": [],
   "source": [
    "# This is the url you will scrape in this exercise\n",
    "url = 'https://github.com/trending/developers'\n",
    "html = requests.get(url).content"
   ]
  },
  {
   "cell_type": "code",
   "execution_count": 3,
   "metadata": {},
   "outputs": [
    {
     "name": "stdout",
     "output_type": "stream",
     "text": [
      "<class 'bs4.element.ResultSet'>\n",
      "25\n"
     ]
    },
    {
     "data": {
      "text/plain": [
       "[<h1 class=\"h3 lh-condensed\"><a href=\"/sloria\">Steven Loria</a></h1>,\n",
       " <h1 class=\"h3 lh-condensed\"><a href=\"/ornicar\">Thibault Duplessis</a></h1>,\n",
       " <h1 class=\"h3 lh-condensed\"><a href=\"/sirreal\">Jon Surrell</a></h1>,\n",
       " <h1 class=\"h3 lh-condensed\"><a href=\"/loic-sharma\">Loïc Sharma</a></h1>,\n",
       " <h1 class=\"h3 lh-condensed\"><a href=\"/micahflee\">Micah Lee</a></h1>,\n",
       " <h1 class=\"h3 lh-condensed\"><a href=\"/ines\">Ines Montani</a></h1>,\n",
       " <h1 class=\"h3 lh-condensed\"><a href=\"/dcodeIO\">Daniel Wirtz</a></h1>,\n",
       " <h1 class=\"h3 lh-condensed\"><a href=\"/timothycrosley\">Timothy Edmund Crosley</a></h1>,\n",
       " <h1 class=\"h3 lh-condensed\"><a href=\"/arcanis\">Maël Nison</a></h1>,\n",
       " <h1 class=\"h3 lh-condensed\"><a href=\"/coryhouse\">Cory House</a></h1>,\n",
       " <h1 class=\"h3 lh-condensed\"><a href=\"/mikkokotila\">Mikko Kotila</a></h1>,\n",
       " <h1 class=\"h3 lh-condensed\"><a href=\"/haya14busa\">haya14busa</a></h1>,\n",
       " <h1 class=\"h3 lh-condensed\"><a href=\"/hpdang\">Hong Phuc Dang</a></h1>,\n",
       " <h1 class=\"h3 lh-condensed\"><a href=\"/bryphe\">Bryan Phelps</a></h1>,\n",
       " <h1 class=\"h3 lh-condensed\"><a href=\"/balloob\">Paulus Schoutsen</a></h1>,\n",
       " <h1 class=\"h3 lh-condensed\"><a href=\"/radare\">radare</a></h1>,\n",
       " <h1 class=\"h3 lh-condensed\"><a href=\"/jquense\">Jason Quense</a></h1>,\n",
       " <h1 class=\"h3 lh-condensed\"><a href=\"/kzu\">Daniel Cazzulino</a></h1>,\n",
       " <h1 class=\"h3 lh-condensed\"><a href=\"/streamich\">Vadim Dalecky</a></h1>,\n",
       " <h1 class=\"h3 lh-condensed\"><a href=\"/ericniebler\">Eric Niebler</a></h1>,\n",
       " <h1 class=\"h3 lh-condensed\"><a href=\"/arvidn\">Arvid Norberg</a></h1>,\n",
       " <h1 class=\"h3 lh-condensed\"><a href=\"/ry\">Ryan Dahl</a></h1>,\n",
       " <h1 class=\"h3 lh-condensed\"><a href=\"/felixrieseberg\">Felix Rieseberg</a></h1>,\n",
       " <h1 class=\"h3 lh-condensed\"><a href=\"/bagder\">Daniel Stenberg</a></h1>,\n",
       " <h1 class=\"h3 lh-condensed\"><a href=\"/paulmelnikow\">Paul Melnikow</a></h1>]"
      ]
     },
     "execution_count": 3,
     "metadata": {},
     "output_type": "execute_result"
    }
   ],
   "source": [
    "#your code\n",
    "soup = bs(html, \"lxml\")\n",
    "soup\n",
    "\n",
    "soup.find_all('h1', {'class':'h3 lh-condensed'})\n",
    "#soup.find_all('a', {'class':'link-gray'})\n",
    "#re.sub(r'.*I', 'I', stri)\n",
    "#soup.find_all()\n",
    "#type(soup.find_all('h1', {'class':'h3 lh-condensed'}))\n",
    "Devs = soup.find_all('h1', {'class':'h3 lh-condensed'})\n",
    "LittleDev = soup.find_all('p', {'class':'f4 text-normal mb-1'})\n",
    "\n",
    "print(type(Devs))\n",
    "print(len(Devs))\n",
    "#tags = ['h1', 'h2', 'h3', 'h4', 'h5', 'h6', 'h7', 'p']\n",
    "#text = [element.text for element in soup.find_all(tags)]\n",
    "#text\n",
    "Devs\n",
    "#LittleDev\n",
    "dirty_list = list(Devs)\n",
    "dirty_list"
   ]
  },
  {
   "cell_type": "code",
   "execution_count": 4,
   "metadata": {},
   "outputs": [
    {
     "data": {
      "text/plain": [
       "bs4.element.ResultSet"
      ]
     },
     "execution_count": 4,
     "metadata": {},
     "output_type": "execute_result"
    }
   ],
   "source": [
    "type(Devs)"
   ]
  },
  {
   "cell_type": "code",
   "execution_count": 5,
   "metadata": {},
   "outputs": [
    {
     "name": "stdout",
     "output_type": "stream",
     "text": [
      "Help on function find_all in module bs4.element:\n",
      "\n",
      "find_all(self, name=None, attrs={}, recursive=True, text=None, limit=None, **kwargs)\n",
      "    Extracts a list of Tag objects that match the given\n",
      "    criteria.  You can specify the name of the Tag and any\n",
      "    attributes you want the Tag to have.\n",
      "    \n",
      "    The value of a key-value pair in the 'attrs' map can be a\n",
      "    string, a list of strings, a regular expression object, or a\n",
      "    callable that takes a string and returns whether or not the\n",
      "    string matches for some custom definition of 'matches'. The\n",
      "    same is true of the tag name.\n",
      "\n"
     ]
    }
   ],
   "source": [
    "help(bs.find_all)"
   ]
  },
  {
   "cell_type": "markdown",
   "metadata": {},
   "source": [
    "#### Display the names of the trending developers retrieved in the previous step.\n",
    "\n",
    "Your output should be a Python list of developer names. Each name should not contain any html tag.\n",
    "\n",
    "**Instructions:**\n",
    "\n",
    "1. Find out the html tag and class names used for the developer names. You can achieve this using Chrome DevTools.\n",
    "\n",
    "1. Use BeautifulSoup to extract all the html elements that contain the developer names.\n",
    "\n",
    "1. Use string manipulation techniques to replace whitespaces and linebreaks (i.e. `\\n`) in the *text* of each html element. Use a list to store the clean names.\n",
    "\n",
    "1. Print the list of names.\n",
    "\n",
    "Your output should look like below:\n",
    "\n",
    "```\n",
    "['trimstray (@trimstray)',\n",
    " 'joewalnes (JoeWalnes)',\n",
    " 'charlax (Charles-AxelDein)',\n",
    " 'ForrestKnight (ForrestKnight)',\n",
    " 'revery-ui (revery-ui)',\n",
    " 'alibaba (Alibaba)',\n",
    " 'Microsoft (Microsoft)',\n",
    " 'github (GitHub)',\n",
    " 'facebook (Facebook)',\n",
    " 'boazsegev (Bo)',\n",
    " 'google (Google)',\n",
    " 'cloudfetch',\n",
    " 'sindresorhus (SindreSorhus)',\n",
    " 'tensorflow',\n",
    " 'apache (TheApacheSoftwareFoundation)',\n",
    " 'DevonCrawford (DevonCrawford)',\n",
    " 'ARMmbed (ArmMbed)',\n",
    " 'vuejs (vuejs)',\n",
    " 'fastai (fast.ai)',\n",
    " 'QiShaoXuan (Qi)',\n",
    " 'joelparkerhenderson (JoelParkerHenderson)',\n",
    " 'torvalds (LinusTorvalds)',\n",
    " 'CyC2018',\n",
    " 'komeiji-satori (神楽坂覚々)',\n",
    " 'script-8']\n",
    " ```"
   ]
  },
  {
   "cell_type": "code",
   "execution_count": 6,
   "metadata": {},
   "outputs": [
    {
     "data": {
      "text/plain": [
       "[['sloria', 'Steven Lori'],\n",
       " ['ornicar', 'Thibault Duplessis'],\n",
       " ['sirreal', 'Jon Surrell'],\n",
       " ['loic-sharma', 'Loïc Sharm'],\n",
       " ['micahflee', 'Micah Lee'],\n",
       " ['ines', 'Ines Montani'],\n",
       " ['dcodeIO', 'Daniel Wirtz'],\n",
       " ['timothycrosley', 'Timothy Edmund Crosley'],\n",
       " ['canis', 'Maël Nison'],\n",
       " ['coryhouse', 'Cory House'],\n",
       " ['mikkokotila', 'Mikko Kotil'],\n",
       " ['ya14busa', 'haya14bus'],\n",
       " ['pdang', 'Hong Phuc Dang'],\n",
       " ['bryphe', 'Bryan Phelps'],\n",
       " ['balloob', 'Paulus Schoutsen'],\n",
       " ['dare', 'radare'],\n",
       " ['jquense', 'Jason Quense'],\n",
       " ['kzu', 'Daniel Cazzulino'],\n",
       " ['streamich', 'Vadim Dalecky'],\n",
       " ['icniebler', 'Eric Niebler'],\n",
       " ['vidn', 'Arvid Norberg'],\n",
       " ['y', 'Ryan Dahl'],\n",
       " ['lixrieseberg', 'Felix Rieseberg'],\n",
       " ['bagder', 'Daniel Stenberg'],\n",
       " ['paulmelnikow', 'Paul Melnikow']]"
      ]
     },
     "execution_count": 6,
     "metadata": {},
     "output_type": "execute_result"
    }
   ],
   "source": [
    "#your code\n",
    "cleaner_list = [re.findall('<a href=.{0,50}</a', str(i)) for i in dirty_list] #regex\n",
    "cleaner_list = [i[0] for i in cleaner_list] #flattens list\n",
    "cleaner_list = [i.rstrip('</a>').lstrip('<a href=\"/').split('\">') for i in cleaner_list] #clean\n",
    "cleaner_list"
   ]
  },
  {
   "cell_type": "markdown",
   "metadata": {},
   "source": [
    "#### Display the trending Python repositories in GitHub\n",
    "\n",
    "The steps to solve this problem is similar to the previous one except that you need to find out the repository names instead of developer names."
   ]
  },
  {
   "cell_type": "code",
   "execution_count": 50,
   "metadata": {},
   "outputs": [
    {
     "data": {
      "text/plain": [
       "['d2l-zh',\n",
       " 'NeMo',\n",
       " 'public-apis',\n",
       " '30-seconds-of-python',\n",
       " 'learn2learn',\n",
       " 'system-design-primer',\n",
       " 'interview_internal_reference',\n",
       " 'roberta_zh',\n",
       " 'mne-python',\n",
       " 'AiLearning',\n",
       " 'mypy',\n",
       " 'saleor',\n",
       " 'Algorithm_Interview_Notes-Chinese',\n",
       " 'mmdetection',\n",
       " 'bake',\n",
       " 'knockknock',\n",
       " 'shadowsocks',\n",
       " 'ShadowSocksShare',\n",
       " 'pytorch-transformers',\n",
       " 'bert-as-service',\n",
       " 'home-assistant',\n",
       " 'models',\n",
       " 'algo',\n",
       " 'apex']"
      ]
     },
     "execution_count": 50,
     "metadata": {},
     "output_type": "execute_result"
    }
   ],
   "source": [
    "# This is the url you will scrape in this exercise\n",
    "url2 = 'https://github.com/trending/python?since=daily'\n",
    "html2 = requests.get(url2).content\n",
    "\n",
    "soup2 = bs(html2, \"lxml\")\n",
    "soup2\n",
    "\n",
    "yucky_list = soup2.find_all('h1', 'h3')\n",
    "yucky_list = list(yucky_list)\n",
    "\n",
    "yucky_list\n",
    "\n",
    "#re.search('AAA(.+?)ZZZ', text)\n",
    "\n",
    "clean = re.findall('href=\".{1,50}\">', str(yucky_list))\n",
    "clean = [i.lstrip('href=\"/').rstrip('\">') for i in clean] \n",
    "clean = [i.split('/') for i in clean]\n",
    "name = [i[0] for i in clean]\n",
    "repo = [i[1] for i in clean]\n",
    "\n",
    "repo"
   ]
  },
  {
   "cell_type": "code",
   "execution_count": 8,
   "metadata": {},
   "outputs": [],
   "source": [
    "#your code"
   ]
  },
  {
   "cell_type": "markdown",
   "metadata": {},
   "source": [
    "#### Display all the image links from Walt Disney wikipedia page"
   ]
  },
  {
   "cell_type": "code",
   "execution_count": 68,
   "metadata": {},
   "outputs": [
    {
     "data": {
      "text/plain": [
       "['upload.wikimedia.org/wikipedia/commons/d/df/Walt_Disney_1946.JPG\"',\n",
       " 'upload.wikimedia.org/wikipedia/en/thumb/e/e7/Cscr-featured.svg/20px-Cscr-featured.svg.png\"',\n",
       " 'upload.wikimedia.org/wikipedia/en/thumb/1/1b/Semi-protection-shackle.svg/20px-Semi-protection-shackle.svg.png\"',\n",
       " 'upload.wikimedia.org/wikipedia/commons/thumb/d/df/Walt_Disney_1946.JPG/220px-Walt_Disney_1946.JPG\"',\n",
       " 'upload.wikimedia.org/wikipedia/commons/thumb/8/87/Walt_Disney_1942_signature.svg/150px-Walt_Disney_1942_signature.svg.png\"',\n",
       " 'upload.wikimedia.org/wikipedia/commons/thumb/c/c4/Walt_Disney_envelope_ca._1921.jpg/220px-Walt_Disney_envelope_ca._1921.jpg',\n",
       " 'upload.wikimedia.org/wikipedia/commons/thumb/c/c4/Walt_Disney_envelope_ca._1921.jpg/330px-Walt_Disney_envelope_ca._1921.jpg',\n",
       " 'upload.wikimedia.org/wikipedia/commons/thumb/c/c4/Walt_Disney_envelope_ca._1921.jpg/440px-Walt_Disney_envelope_ca._1921.jpg',\n",
       " 'upload.wikimedia.org/wikipedia/commons/thumb/4/4d/Newman_Laugh-O-Gram_%281921%29.webm/352px--Newman_Laugh-O-Gram_%281921%29.webm.jpg',\n",
       " 'upload.wikimedia.org/wikipedia/commons/thumb/4/4d/Newman_Laugh-O-Gram_%281921%29.webm/220px-seek%3D2-Newman_Laugh-O-Gram_%281921%29.webm.jpg',\n",
       " 'upload.wikimedia.org/wikipedia/commons/thumb/0/0d/Trolley_Troubles_poster.jpg/170px-Trolley_Troubles_poster.jpg\" srcset=\"//upload.wikimedia.org/wikipedia/commons/thumb/0/0d/Trolley_Troubles_poster.jpg',\n",
       " 'upload.wikimedia.org/wikipedia/commons/thumb/0/0d/Trolley_Troubles_poster.jpg/340px-Trolley_Troubles_poster.jpg',\n",
       " 'upload.wikimedia.org/wikipedia/commons/thumb/7/71/Walt_Disney_and_his_cartoon_creation_%22Mickey_Mouse%22_-_National_Board_of_Review_Magazine.jpg',\n",
       " 'upload.wikimedia.org/wikipedia/commons/thumb/7/71/Walt_Disney_and_his_cartoon_creation_%22Mickey_Mouse%22_-_National_Board_of_Review_Magazine.jpg',\n",
       " 'upload.wikimedia.org/wikipedia/commons/thumb/7/71/Walt_Disney_and_his_cartoon_creation_%22Mickey_Mouse%22_-_National_Board_of_Review_Magazine.jpg',\n",
       " 'upload.wikimedia.org/wikipedia/en/thumb/4/4e/Steamboat-willie.jpg/170px-Steamboat-willie.jpg\" srcset=\"//upload.wikimedia.org/wikipedia/en/thumb/4/4e/Steamboat-willie.jpg/255px-Steamboat-willie.jpg',\n",
       " 'upload.wikimedia.org/wikipedia/en/thumb/4/4e/Steamboat-willie.jpg/340px-Steamboat-willie.jpg',\n",
       " 'upload.wikimedia.org/wikipedia/commons/thumb/5/57/Walt_Disney_1935.jpg/170px-Walt_Disney_1935.jpg\" srcset=\"//upload.wikimedia.org/wikipedia/commons/thumb/5/57/Walt_Disney_1935.jpg/255px-Walt_Disney_1935.jpg',\n",
       " 'upload.wikimedia.org/wikipedia/commons/thumb/5/57/Walt_Disney_1935.jpg/340px-Walt_Disney_1935.jpg',\n",
       " 'upload.wikimedia.org/wikipedia/commons/thumb/c/cd/Walt_Disney_Snow_white_1937_trailer_screenshot_%2813%29.jpg/220px-Walt_Disney_Snow_white_1937_trailer_screenshot_%2813%29.jpg',\n",
       " 'upload.wikimedia.org/wikipedia/commons/thumb/c/cd/Walt_Disney_Snow_white_1937_trailer_screenshot_%2813%29.jpg/330px-Walt_Disney_Snow_white_1937_trailer_screenshot_%2813%29.jpg',\n",
       " 'upload.wikimedia.org/wikipedia/commons/thumb/c/cd/Walt_Disney_Snow_white_1937_trailer_screenshot_%2813%29.jpg/440px-Walt_Disney_Snow_white_1937_trailer_screenshot_%2813%29.jpg',\n",
       " 'upload.wikimedia.org/wikipedia/commons/thumb/1/15/Disney_drawing_goofy.jpg/170px-Disney_drawing_goofy.jpg\" srcset=\"//upload.wikimedia.org/wikipedia/commons/thumb/1/15/Disney_drawing_goofy.jpg',\n",
       " 'upload.wikimedia.org/wikipedia/commons/thumb/1/15/Disney_drawing_goofy.jpg/340px-Disney_drawing_goofy.jpg',\n",
       " 'upload.wikimedia.org/wikipedia/commons/thumb/1/13/DisneySchiphol1951.jpg/220px-DisneySchiphol1951.jpg\" srcset=\"//upload.wikimedia.org/wikipedia/commons/thumb/1/13/DisneySchiphol1951.jpg',\n",
       " 'upload.wikimedia.org/wikipedia/commons/thumb/1/13/DisneySchiphol1951.jpg/440px-DisneySchiphol1951.jpg',\n",
       " 'upload.wikimedia.org/wikipedia/commons/thumb/8/8c/WaltDisneyplansDisneylandDec1954.jpg/220px-WaltDisneyplansDisneylandDec1954.jpg',\n",
       " 'upload.wikimedia.org/wikipedia/commons/thumb/8/8c/WaltDisneyplansDisneylandDec1954.jpg/330px-WaltDisneyplansDisneylandDec1954.jpg',\n",
       " 'upload.wikimedia.org/wikipedia/commons/thumb/8/8c/WaltDisneyplansDisneylandDec1954.jpg/440px-WaltDisneyplansDisneylandDec1954.jpg',\n",
       " 'upload.wikimedia.org/wikipedia/commons/thumb/f/ff/Walt_disney_portrait_right.jpg/170px-Walt_disney_portrait_right.jpg\" srcset=\"//upload.wikimedia.org/wikipedia/commons/thumb/f/ff/Walt_disney_portrait_right.jpg',\n",
       " 'upload.wikimedia.org/wikipedia/commons/thumb/f/ff/Walt_disney_portrait_right.jpg/340px-Walt_disney_portrait_right.jpg',\n",
       " 'upload.wikimedia.org/wikipedia/commons/thumb/1/1a/Walt_Disney_Grave.JPG/170px-Walt_Disney_Grave.JPG\"',\n",
       " 'upload.wikimedia.org/wikipedia/commons/thumb/2/2d/Roy_O._Disney_with_Company_at_Press_Conference.jpg/170px-Roy_O._Disney_with_Company_at_Press_Conference.jpg',\n",
       " 'upload.wikimedia.org/wikipedia/commons/2/2d/Roy_O._Disney_with_Company_at_Press_Conference.jpg',\n",
       " 'upload.wikimedia.org/wikipedia/commons/thumb/a/a9/Disney_Display_Case.JPG/170px-Disney_Display_Case.JPG\"',\n",
       " 'upload.wikimedia.org/wikipedia/commons/thumb/6/6c/Disney1968.jpg/170px-Disney1968.jpg\" srcset=\"//upload.wikimedia.org/wikipedia/commons/6/6c/Disney1968.jpg',\n",
       " 'upload.wikimedia.org/wikipedia/commons/thumb/6/65/Lock-green.svg/9px-Lock-green.svg.png\"',\n",
       " 'upload.wikimedia.org/wikipedia/commons/thumb/d/d6/Lock-gray-alt-2.svg/9px-Lock-gray-alt-2.svg.png\"',\n",
       " 'upload.wikimedia.org/wikipedia/commons/thumb/a/aa/Lock-red-alt-2.svg/9px-Lock-red-alt-2.svg.png\"',\n",
       " 'upload.wikimedia.org/wikipedia/commons/thumb/4/4c/Wikisource-logo.svg/12px-Wikisource-logo.svg.png\"',\n",
       " 'upload.wikimedia.org/wikipedia/en/thumb/8/8a/OOjs_UI_icon_edit-ltr-progressive.svg/10px-OOjs_UI_icon_edit-ltr-progressive.svg.png\"',\n",
       " 'upload.wikimedia.org/wikipedia/commons/thumb/d/da/Animation_disc.svg/30px-Animation_disc.svg.png\"',\n",
       " 'upload.wikimedia.org/wikipedia/en/thumb/6/69/P_vip.svg/29px-P_vip.svg.png\"',\n",
       " 'upload.wikimedia.org/wikipedia/commons/thumb/1/1a/Magic_Kingdom_castle.jpg/24px-Magic_Kingdom_castle.jpg\" srcset=\"//upload.wikimedia.org/wikipedia/commons/thumb/1/1a/Magic_Kingdom_castle.jpg',\n",
       " 'upload.wikimedia.org/wikipedia/commons/thumb/1/1a/Magic_Kingdom_castle.jpg/49px-Magic_Kingdom_castle.jpg',\n",
       " 'upload.wikimedia.org/wikipedia/en/thumb/e/e7/Video-x-generic.svg/30px-Video-x-generic.svg.png\"',\n",
       " 'upload.wikimedia.org/wikipedia/commons/thumb/a/a3/Flag_of_Los_Angeles_County%2C_California.svg/30px-Flag_of_Los_Angeles_County%2C_California.svg.png\"',\n",
       " 'upload.wikimedia.org/wikipedia/commons/thumb/8/8c/Blank_television_set.svg/30px-Blank_television_set.svg.png\"',\n",
       " 'upload.wikimedia.org/wikipedia/en/thumb/a/a4/Flag_of_the_United_States.svg/30px-Flag_of_the_United_States.svg.png\"',\n",
       " 'upload.wikimedia.org/wikipedia/en/thumb/4/4a/Commons-logo.svg/22px-Commons-logo.svg.png\"',\n",
       " 'upload.wikimedia.org/wikipedia/commons/thumb/f/fa/Wikiquote-logo.svg/25px-Wikiquote-logo.svg.png\"',\n",
       " 'upload.wikimedia.org/wikipedia/commons/thumb/f/ff/Wikidata-logo.svg/30px-Wikidata-logo.svg.png\"',\n",
       " 'upload.wikimedia.org/wikipedia/en/thumb/8/8a/OOjs_UI_icon_edit-ltr-progressive.svg/10px-OOjs_UI_icon_edit-ltr-progressive.svg.png\"',\n",
       " 'upload.wikimedia.org\\\\/wikipedia\\\\/commons\\\\/d\\\\/df\\\\/Walt_Disney_1946.JPG\"']"
      ]
     },
     "execution_count": 68,
     "metadata": {},
     "output_type": "execute_result"
    }
   ],
   "source": [
    "# This is the url you will scrape in this exercise\n",
    "url3 = 'https://en.wikipedia.org/wiki/Walt_Disney'\n",
    "\n",
    "html3 = requests.get(url3).content\n",
    "\n",
    "soup3 = bs(html3, \"lxml\")\n",
    "\n",
    "pattern = 'upload.{1,200}png\"|upload.{1,200}PNG|upload.{1,200}jpg|upload.{1,200}JPG\"'\n",
    "\n",
    "images = re.findall(pattern, str(soup3))\n",
    "\n",
    "images\n"
   ]
  },
  {
   "cell_type": "markdown",
   "metadata": {},
   "source": [
    "#### Retrieve an arbitary Wikipedia page of \"Python\" and create a list of links on that page"
   ]
  },
  {
   "cell_type": "code",
   "execution_count": 91,
   "metadata": {},
   "outputs": [
    {
     "data": {
      "text/plain": [
       "['/wiki/Python\" title=\"wiktionary:Python\">Python</a></b></i>\\xa0or <i><b><a class=\"extiw\" href=\"https://en.wiktionary.org/wiki/python\" title=\"',\n",
       " '/wiki/Pythonidae\" title=\"',\n",
       " '/wiki/Python_(genus)\" title=\"',\n",
       " '/wiki/Python_(mythology)\" title=\"',\n",
       " '/wiki/Python_of_Aenus\" title=\"',\n",
       " '/wiki/Python_(painter)\" title=\"',\n",
       " '/wiki/Python_of_Byzantium\" title=\"',\n",
       " '/wiki/Python_of_Catana\" title=\"',\n",
       " '/wiki/Python_(film)\" title=\"',\n",
       " '/wiki/Pythons_2\" title=\"',\n",
       " '/wiki/Monty_Python\" title=\"',\n",
       " '/wiki/Python_(Monty)_Pictures\" title=\"',\n",
       " '/wiki/Python_(programming_language)\" title=\"',\n",
       " '/wiki/CPython\" title=\"',\n",
       " '/wiki/CMU_Common_Lisp\" title=\"',\n",
       " '/wiki/PERQ#PERQ_3\" title=\"',\n",
       " '/wiki/Python_(Busch_Gardens_Tampa_Bay)\" title=\"',\n",
       " '/wiki/Python_(Coney_Island,_Cincinnati,_Ohio)\" title=\"',\n",
       " '/wiki/Python_(Efteling)\" title=\"',\n",
       " '/wiki/Python_(automobile_maker)\" title=\"',\n",
       " '/wiki/Python_(Ford_prototype)\" title=\"',\n",
       " '/wiki/Colt_Python\" title=\"',\n",
       " '/wiki/Python_(missile)\" title=\"',\n",
       " '/wiki/Python_(nuclear_primary)\" title=\"',\n",
       " '/wiki/Python_Anghelo\" title=\"',\n",
       " '/wiki/PYTHON\" title=\"',\n",
       " '/wiki/Cython\" title=\"',\n",
       " '/wiki/Pyton\" title=\"',\n",
       " '/wiki/Help:Disambiguation\" title=\"',\n",
       " '/wiki/Special:CentralAutoLogin/start?type=1x1\" style=\"border: none; position: absolute;\" title=\"',\n",
       " '/wiki/Help:Category\" title=\"Help:Category\">Categories</a>: <ul><li><a href=\"/wiki/Category:Disambiguation_pages\" title=\"',\n",
       " '/wiki/Category:Disambiguation_pages_with_short_description\" title=\"',\n",
       " '/wiki/Category:All_article_disambiguation_pages\" title=\"',\n",
       " '/wiki/Category:All_disambiguation_pages\" title=\"',\n",
       " '/wiki/Category:Animal_common_name_disambiguation_pages\" title=\"',\n",
       " '/wiki/Special:MyTalk\" title=\"',\n",
       " '/wiki/Special:MyContributions\" title=\"',\n",
       " '/wiki/Python\" title=\"View the content page [c]\">Article</a></span></li><li id=\"ca-talk\"><span><a accesskey=\"t\" href=\"/wiki/Talk:Python\" rel=\"discussion\" title=\"',\n",
       " '/wiki/Python\">Read</a></span></li><li class=\"collapsible\" id=\"ca-edit\"><span><a accesskey=\"e\" href=\"/w/index.php?title=Python&amp;action=edit\" title=\"',\n",
       " '/wiki/Main_Page\" title=\"',\n",
       " '/wiki/Main_Page\" title=\"Visit the main page [z]\">Main page</a></li><li id=\"n-contents\"><a href=\"/wiki/Portal:Contents\" title=\"',\n",
       " '/wiki/Portal:Featured_content\" title=\"',\n",
       " '/wiki/Portal:Current_events\" title=\"',\n",
       " '/wiki/Special:Random\" title=\"',\n",
       " '/wiki/Special:FundraiserRedirector?utm_source=donate&amp;utm_medium=sidebar&amp;utm_campaign=C13_en.wikipedia.org&amp;uselang=en\" title=\"',\n",
       " '/wiki/Help:Contents\" title=\"Guidance on how to use and edit Wikipedia\">Help</a></li><li id=\"n-aboutsite\"><a href=\"/wiki/Wikipedia:About\" title=\"',\n",
       " '/wiki/Wikipedia:Community_portal\" title=\"',\n",
       " '/wiki/Special:RecentChanges\" title=\"',\n",
       " '/wiki/Wikipedia:Contact_us\" title=\"',\n",
       " '/wiki/Special:WhatLinksHere/Python\" title=\"',\n",
       " '/wiki/Special:RecentChangesLinked/Python\" rel=\"nofollow\" title=\"',\n",
       " '/wiki/Wikipedia:File_Upload_Wizard\" title=\"Upload files [u]\">Upload file</a></li><li id=\"t-specialpages\"><a accesskey=\"q\" href=\"/wiki/Special:SpecialPages\" title=\"',\n",
       " '/wiki/Special:EntityPage/Q747452\" title=\"',\n",
       " '/wiki/Python\" hreflang=\"af\" lang=\"af\" title=\"',\n",
       " '/wiki/Python\" hreflang=\"gsw\" lang=\"gsw\" title=\"',\n",
       " '/wiki/Python\" hreflang=\"az\" lang=\"az\" title=\"',\n",
       " '/wiki/Python\" hreflang=\"be\" lang=\"be\" title=\"',\n",
       " '/wiki/%D0%9F%D0%B8%D1%82%D0%BE%D0%BD_(%D0%BF%D0%BE%D1%8F%D1%81%D0%BD%D0%B5%D0%BD%D0%B8%D0%B5)\" hreflang=\"bg\" lang=\"bg\" title=\"',\n",
       " '/wiki/Python_(rozcestn%C3%ADk)\" hreflang=\"cs\" lang=\"cs\" title=\"',\n",
       " '/wiki/Python\" hreflang=\"da\" lang=\"da\" title=\"',\n",
       " '/wiki/Python\" hreflang=\"de\" lang=\"de\" title=\"',\n",
       " '/wiki/Pitono_(apartigilo)\" hreflang=\"eo\" lang=\"eo\" title=\"',\n",
       " '/wiki/Python_(argipena)\" hreflang=\"eu\" lang=\"eu\" title=\"',\n",
       " '/wiki/%D9%BE%D8%A7%DB%8C%D8%AA%D9%88%D9%86\" hreflang=\"fa\" lang=\"fa\" title=\"',\n",
       " '/wiki/Python\" hreflang=\"fr\" lang=\"fr\" title=\"',\n",
       " '/wiki/%ED%8C%8C%EC%9D%B4%EC%84%A0\" hreflang=\"ko\" lang=\"ko\" title=\"',\n",
       " '/wiki/Python_(razdvojba)\" hreflang=\"hr\" lang=\"hr\" title=\"',\n",
       " '/wiki/Pitono\" hreflang=\"io\" lang=\"io\" title=\"',\n",
       " '/wiki/Python\" hreflang=\"id\" lang=\"id\" title=\"',\n",
       " '/wiki/Python_(disambiguation)\" hreflang=\"ia\" lang=\"ia\" title=\"',\n",
       " '/wiki/Python_(a%C3%B0greining)\" hreflang=\"is\" lang=\"is\" title=\"',\n",
       " '/wiki/Python_(disambigua)\" hreflang=\"it\" lang=\"it\" title=\"',\n",
       " '/wiki/%D7%A4%D7%99%D7%AA%D7%95%D7%9F\" hreflang=\"he\" lang=\"he\" title=\"',\n",
       " '/wiki/Mboma_(nyoka)\" hreflang=\"kg\" lang=\"kg\" title=\"',\n",
       " '/wiki/Python_(discretiva)\" hreflang=\"la\" lang=\"la\" title=\"',\n",
       " '/wiki/Python\" hreflang=\"lb\" lang=\"lb\" title=\"',\n",
       " '/wiki/Python_(egy%C3%A9rtelm%C5%B1s%C3%ADt%C5%91_lap)\" hreflang=\"hu\" lang=\"hu\" title=\"',\n",
       " '/wiki/Python\" hreflang=\"nl\" lang=\"nl\" title=\"',\n",
       " '/wiki/%E3%83%91%E3%82%A4%E3%82%BD%E3%83%B3\" hreflang=\"ja\" lang=\"ja\" title=\"',\n",
       " '/wiki/Pyton\" hreflang=\"no\" lang=\"no\" title=\"',\n",
       " '/wiki/Pyton\" hreflang=\"pl\" lang=\"pl\" title=\"',\n",
       " '/wiki/Python_(desambigua%C3%A7%C3%A3o)\" hreflang=\"pt\" lang=\"pt\" title=\"',\n",
       " '/wiki/Python_(%D0%B7%D0%BD%D0%B0%D1%87%D0%B5%D0%BD%D0%B8%D1%8F)\" hreflang=\"ru\" lang=\"ru\" title=\"',\n",
       " '/wiki/%D8%A7%D8%B1%DA%99\" hreflang=\"sd\" lang=\"sd\" title=\"',\n",
       " '/wiki/Python\" hreflang=\"sk\" lang=\"sk\" title=\"',\n",
       " '/wiki/Python\" hreflang=\"sh\" lang=\"sh\" title=\"',\n",
       " '/wiki/Python\" hreflang=\"fi\" lang=\"fi\" title=\"',\n",
       " '/wiki/Pyton\" hreflang=\"sv\" lang=\"sv\" title=\"',\n",
       " '/wiki/%E0%B9%84%E0%B8%9E%E0%B8%97%E0%B8%AD%E0%B8%99\" hreflang=\"th\" lang=\"th\" title=\"',\n",
       " '/wiki/Python\" hreflang=\"tr\" lang=\"tr\" title=\"',\n",
       " '/wiki/%D0%9F%D1%96%D1%84%D0%BE%D0%BD\" hreflang=\"uk\" lang=\"uk\" title=\"',\n",
       " '/wiki/%D9%BE%D8%A7%D8%A6%DB%8C%D8%AA%DA%BE%D9%88%D9%86\" hreflang=\"ur\" lang=\"ur\" title=\"',\n",
       " '/wiki/Python\" hreflang=\"vi\" lang=\"vi\" title=\"',\n",
       " '/wiki/Python_(%E6%B6%88%E6%AD%A7%E4%B9%89)\" hreflang=\"zh\" lang=\"zh\" title=\"',\n",
       " '/wiki/Special:EntityPage/Q747452#sitelinks-wikipedia\" title=\"',\n",
       " '/wiki/Privacy_policy\" title=\"',\n",
       " '/wiki/Wikipedia:About\" title=\"',\n",
       " '/wiki/Wikipedia:General_disclaimer\" title=\"']"
      ]
     },
     "execution_count": 91,
     "metadata": {},
     "output_type": "execute_result"
    }
   ],
   "source": [
    "# This is the url you will scrape in this exercise\n",
    "url4 ='https://en.wikipedia.org/wiki/Python' \n",
    "html4 = requests.get(url4).content\n",
    "\n",
    "soup4 = bs(html4, \"lxml\")\n",
    "soup4\n",
    "\n",
    "pattern2 = '/wiki/.{1,150}\" title=\"'\n",
    "\n",
    "links = re.findall(pattern2, str(soup4))\n",
    "links"
   ]
  },
  {
   "cell_type": "code",
   "execution_count": 12,
   "metadata": {},
   "outputs": [],
   "source": [
    "#your code"
   ]
  },
  {
   "cell_type": "markdown",
   "metadata": {},
   "source": [
    "#### Number of Titles that have changed in the United States Code since its last release point "
   ]
  },
  {
   "cell_type": "code",
   "execution_count": 13,
   "metadata": {},
   "outputs": [],
   "source": [
    "# This is the url you will scrape in this exercise\n",
    "url = 'http://uscode.house.gov/download/download.shtml'"
   ]
  },
  {
   "cell_type": "code",
   "execution_count": 14,
   "metadata": {},
   "outputs": [],
   "source": [
    "#your code"
   ]
  },
  {
   "cell_type": "markdown",
   "metadata": {},
   "source": [
    "#### A Python list with the top ten FBI's Most Wanted names "
   ]
  },
  {
   "cell_type": "code",
   "execution_count": 15,
   "metadata": {},
   "outputs": [],
   "source": [
    "# This is the url you will scrape in this exercise\n",
    "url = 'https://www.fbi.gov/wanted/topten'"
   ]
  },
  {
   "cell_type": "code",
   "execution_count": 16,
   "metadata": {},
   "outputs": [],
   "source": [
    "#your code "
   ]
  },
  {
   "cell_type": "markdown",
   "metadata": {},
   "source": [
    "####  20 latest earthquakes info (date, time, latitude, longitude and region name) by the EMSC as a pandas dataframe"
   ]
  },
  {
   "cell_type": "code",
   "execution_count": 17,
   "metadata": {},
   "outputs": [],
   "source": [
    "# This is the url you will scrape in this exercise\n",
    "url = 'https://www.emsc-csem.org/Earthquake/'"
   ]
  },
  {
   "cell_type": "code",
   "execution_count": 18,
   "metadata": {},
   "outputs": [],
   "source": [
    "#your code"
   ]
  },
  {
   "cell_type": "markdown",
   "metadata": {},
   "source": [
    "#### Display the date, days, title, city, country of next 25 hackathon events as a Pandas dataframe table"
   ]
  },
  {
   "cell_type": "code",
   "execution_count": 19,
   "metadata": {},
   "outputs": [],
   "source": [
    "# This is the url you will scrape in this exercise\n",
    "url ='https://hackevents.co/hackathons'"
   ]
  },
  {
   "cell_type": "code",
   "execution_count": 20,
   "metadata": {},
   "outputs": [],
   "source": [
    "#your code"
   ]
  },
  {
   "cell_type": "markdown",
   "metadata": {},
   "source": [
    "#### Count number of tweets by a given Twitter account."
   ]
  },
  {
   "cell_type": "markdown",
   "metadata": {},
   "source": [
    "You will need to include a ***try/except block*** for account names not found. \n",
    "<br>***Hint:*** the program should count the number of tweets for any provided account"
   ]
  },
  {
   "cell_type": "code",
   "execution_count": 21,
   "metadata": {},
   "outputs": [],
   "source": [
    "# This is the url you will scrape in this exercise \n",
    "# You will need to add the account credentials to this url\n",
    "url = 'https://twitter.com/'"
   ]
  },
  {
   "cell_type": "code",
   "execution_count": 22,
   "metadata": {},
   "outputs": [],
   "source": [
    "#your code"
   ]
  },
  {
   "cell_type": "markdown",
   "metadata": {},
   "source": [
    "#### Number of followers of a given twitter account"
   ]
  },
  {
   "cell_type": "markdown",
   "metadata": {},
   "source": [
    "You will need to include a ***try/except block*** in case account/s name not found. \n",
    "<br>***Hint:*** the program should count the followers for any provided account"
   ]
  },
  {
   "cell_type": "code",
   "execution_count": 23,
   "metadata": {},
   "outputs": [],
   "source": [
    "# This is the url you will scrape in this exercise \n",
    "# You will need to add the account credentials to this url\n",
    "url = 'https://twitter.com/'"
   ]
  },
  {
   "cell_type": "code",
   "execution_count": 24,
   "metadata": {},
   "outputs": [],
   "source": [
    "#your code"
   ]
  },
  {
   "cell_type": "markdown",
   "metadata": {},
   "source": [
    "#### List all language names and number of related articles in the order they appear in wikipedia.org"
   ]
  },
  {
   "cell_type": "code",
   "execution_count": 25,
   "metadata": {},
   "outputs": [],
   "source": [
    "# This is the url you will scrape in this exercise\n",
    "url = 'https://www.wikipedia.org/'"
   ]
  },
  {
   "cell_type": "code",
   "execution_count": 26,
   "metadata": {},
   "outputs": [],
   "source": [
    "#your code"
   ]
  },
  {
   "cell_type": "markdown",
   "metadata": {},
   "source": [
    "#### A list with the different kind of datasets available in data.gov.uk "
   ]
  },
  {
   "cell_type": "code",
   "execution_count": 27,
   "metadata": {},
   "outputs": [],
   "source": [
    "# This is the url you will scrape in this exercise\n",
    "url = 'https://data.gov.uk/'"
   ]
  },
  {
   "cell_type": "code",
   "execution_count": 28,
   "metadata": {},
   "outputs": [],
   "source": [
    "#your code "
   ]
  },
  {
   "cell_type": "markdown",
   "metadata": {},
   "source": [
    "#### Top 10 languages by number of native speakers stored in a Pandas Dataframe"
   ]
  },
  {
   "cell_type": "code",
   "execution_count": 29,
   "metadata": {},
   "outputs": [],
   "source": [
    "# This is the url you will scrape in this exercise\n",
    "url = 'https://en.wikipedia.org/wiki/List_of_languages_by_number_of_native_speakers'"
   ]
  },
  {
   "cell_type": "code",
   "execution_count": 30,
   "metadata": {},
   "outputs": [],
   "source": [
    "#your code"
   ]
  },
  {
   "cell_type": "markdown",
   "metadata": {},
   "source": [
    "### BONUS QUESTIONS"
   ]
  },
  {
   "cell_type": "markdown",
   "metadata": {},
   "source": [
    "#### Scrape a certain number of tweets of a given Twitter account."
   ]
  },
  {
   "cell_type": "code",
   "execution_count": 31,
   "metadata": {},
   "outputs": [],
   "source": [
    "# This is the url you will scrape in this exercise \n",
    "# You will need to add the account credentials to this url\n",
    "url = 'https://twitter.com/'"
   ]
  },
  {
   "cell_type": "code",
   "execution_count": 32,
   "metadata": {},
   "outputs": [],
   "source": [
    "# your code"
   ]
  },
  {
   "cell_type": "markdown",
   "metadata": {},
   "source": [
    "#### IMDB's Top 250 data (movie name, Initial release, director name and stars) as a pandas dataframe"
   ]
  },
  {
   "cell_type": "code",
   "execution_count": 33,
   "metadata": {},
   "outputs": [],
   "source": [
    "# This is the url you will scrape in this exercise \n",
    "url = 'https://www.imdb.com/chart/top'"
   ]
  },
  {
   "cell_type": "code",
   "execution_count": 34,
   "metadata": {},
   "outputs": [],
   "source": [
    "# your code"
   ]
  },
  {
   "cell_type": "markdown",
   "metadata": {},
   "source": [
    "#### Movie name, year and a brief summary of the top 10 random movies (IMDB) as a pandas dataframe."
   ]
  },
  {
   "cell_type": "code",
   "execution_count": 35,
   "metadata": {},
   "outputs": [],
   "source": [
    "#This is the url you will scrape in this exercise\n",
    "url = 'http://www.imdb.com/chart/top'"
   ]
  },
  {
   "cell_type": "code",
   "execution_count": 36,
   "metadata": {},
   "outputs": [],
   "source": [
    "#your code"
   ]
  },
  {
   "cell_type": "markdown",
   "metadata": {},
   "source": [
    "#### Find the live weather report (temperature, wind speed, description and weather) of a given city."
   ]
  },
  {
   "cell_type": "code",
   "execution_count": 37,
   "metadata": {},
   "outputs": [
    {
     "name": "stdout",
     "output_type": "stream",
     "text": [
      "Enter the city:asfd\n"
     ]
    }
   ],
   "source": [
    "#https://openweathermap.org/current\n",
    "city = city=input('Enter the city:')\n",
    "url = 'http://api.openweathermap.org/data/2.5/weather?'+'q='+city+'&APPID=b35975e18dc93725acb092f7272cc6b8&units=metric'"
   ]
  },
  {
   "cell_type": "code",
   "execution_count": 38,
   "metadata": {},
   "outputs": [],
   "source": [
    "# your code"
   ]
  },
  {
   "cell_type": "markdown",
   "metadata": {},
   "source": [
    "#### Book name,price and stock availability as a pandas dataframe."
   ]
  },
  {
   "cell_type": "code",
   "execution_count": 39,
   "metadata": {},
   "outputs": [],
   "source": [
    "# This is the url you will scrape in this exercise. \n",
    "# It is a fictional bookstore created to be scraped. \n",
    "url = 'http://books.toscrape.com/'"
   ]
  },
  {
   "cell_type": "code",
   "execution_count": 40,
   "metadata": {},
   "outputs": [],
   "source": [
    "#your code"
   ]
  }
 ],
 "metadata": {
  "kernelspec": {
   "display_name": "Python 3",
   "language": "python",
   "name": "python3"
  },
  "language_info": {
   "codemirror_mode": {
    "name": "ipython",
    "version": 3
   },
   "file_extension": ".py",
   "mimetype": "text/x-python",
   "name": "python",
   "nbconvert_exporter": "python",
   "pygments_lexer": "ipython3",
   "version": "3.7.3"
  }
 },
 "nbformat": 4,
 "nbformat_minor": 2
}
