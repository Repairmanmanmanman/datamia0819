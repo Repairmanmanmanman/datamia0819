{
 "cells": [
  {
   "cell_type": "code",
   "execution_count": null,
   "metadata": {},
   "outputs": [],
   "source": [
    "#1. Import the NUMPY package under the name np."
   ]
  },
  {
   "cell_type": "code",
   "execution_count": 1,
   "metadata": {},
   "outputs": [],
   "source": [
    "import numpy as np"
   ]
  },
  {
   "cell_type": "code",
   "execution_count": null,
   "metadata": {},
   "outputs": [],
   "source": [
    "#2. Print the NUMPY version and the configuration."
   ]
  },
  {
   "cell_type": "code",
   "execution_count": 2,
   "metadata": {},
   "outputs": [
    {
     "name": "stdout",
     "output_type": "stream",
     "text": [
      "<module 'numpy.version' from 'C:\\\\Users\\\\Repairmanmanmanman\\\\Anaconda3\\\\lib\\\\site-packages\\\\numpy\\\\version.py'>\n",
      "1.16.2\n"
     ]
    }
   ],
   "source": [
    "print(np.version)\n",
    "print(np.__version__)"
   ]
  },
  {
   "cell_type": "code",
   "execution_count": null,
   "metadata": {},
   "outputs": [],
   "source": [
    "#3. Generate a 2x3x5 3-dimensional array with random values. Assign the array to variable \"a\"\n",
    "# Challenge: there are at least three easy ways that use numpy to generate random arrays. How many ways can you find?"
   ]
  },
  {
   "cell_type": "code",
   "execution_count": 3,
   "metadata": {},
   "outputs": [],
   "source": [
    "a = np.random.random((2,3,5))"
   ]
  },
  {
   "cell_type": "code",
   "execution_count": null,
   "metadata": {},
   "outputs": [],
   "source": [
    "#4. Print a."
   ]
  },
  {
   "cell_type": "code",
   "execution_count": 4,
   "metadata": {},
   "outputs": [
    {
     "name": "stdout",
     "output_type": "stream",
     "text": [
      "[[[0.22158485 0.04807432 0.0954779  0.57710815 0.18434242]\n",
      "  [0.65711283 0.90303116 0.37173794 0.26945126 0.77858999]\n",
      "  [0.82634132 0.7269357  0.32572842 0.85132885 0.53449109]]\n",
      "\n",
      " [[0.80131585 0.27133479 0.70580848 0.08138466 0.73523325]\n",
      "  [0.90460171 0.60729769 0.79632425 0.02129288 0.31126919]\n",
      "  [0.28643191 0.72780945 0.49201917 0.03838039 0.89128998]]]\n"
     ]
    }
   ],
   "source": [
    "print(a)"
   ]
  },
  {
   "cell_type": "code",
   "execution_count": null,
   "metadata": {},
   "outputs": [],
   "source": [
    "#5. Create a 5x2x3 3-dimensional array with all values equaling 1.\n",
    "#Assign the array to variable \"b\"\n"
   ]
  },
  {
   "cell_type": "code",
   "execution_count": 5,
   "metadata": {},
   "outputs": [],
   "source": [
    "b = np.full((5,2,3), 1)"
   ]
  },
  {
   "cell_type": "code",
   "execution_count": null,
   "metadata": {},
   "outputs": [],
   "source": [
    "#6. Print b."
   ]
  },
  {
   "cell_type": "code",
   "execution_count": 6,
   "metadata": {},
   "outputs": [
    {
     "name": "stdout",
     "output_type": "stream",
     "text": [
      "[[[1 1 1]\n",
      "  [1 1 1]]\n",
      "\n",
      " [[1 1 1]\n",
      "  [1 1 1]]\n",
      "\n",
      " [[1 1 1]\n",
      "  [1 1 1]]\n",
      "\n",
      " [[1 1 1]\n",
      "  [1 1 1]]\n",
      "\n",
      " [[1 1 1]\n",
      "  [1 1 1]]]\n"
     ]
    }
   ],
   "source": [
    "print(b)"
   ]
  },
  {
   "cell_type": "code",
   "execution_count": null,
   "metadata": {},
   "outputs": [],
   "source": [
    "#7. Do a and b have the same size? How do you prove that in Python code?"
   ]
  },
  {
   "cell_type": "code",
   "execution_count": 7,
   "metadata": {},
   "outputs": [
    {
     "name": "stdout",
     "output_type": "stream",
     "text": [
      "True\n"
     ]
    }
   ],
   "source": [
    "if a.size == b.size:\n",
    "    print(\"True\")"
   ]
  },
  {
   "cell_type": "code",
   "execution_count": null,
   "metadata": {},
   "outputs": [],
   "source": [
    "#8. Are you able to add a and b? Why or why not?"
   ]
  },
  {
   "cell_type": "code",
   "execution_count": 17,
   "metadata": {},
   "outputs": [
    {
     "ename": "ValueError",
     "evalue": "operands could not be broadcast together with shapes (2,3,5) (5,2,3) ",
     "output_type": "error",
     "traceback": [
      "\u001b[1;31m---------------------------------------------------------------------------\u001b[0m",
      "\u001b[1;31mValueError\u001b[0m                                Traceback (most recent call last)",
      "\u001b[1;32m<ipython-input-17-178c8efb3d6b>\u001b[0m in \u001b[0;36m<module>\u001b[1;34m\u001b[0m\n\u001b[1;32m----> 1\u001b[1;33m \u001b[0mprint\u001b[0m\u001b[1;33m(\u001b[0m\u001b[0mnp\u001b[0m\u001b[1;33m.\u001b[0m\u001b[0madd\u001b[0m\u001b[1;33m(\u001b[0m\u001b[0ma\u001b[0m\u001b[1;33m,\u001b[0m \u001b[0mb\u001b[0m\u001b[1;33m)\u001b[0m\u001b[1;33m)\u001b[0m\u001b[1;33m\u001b[0m\u001b[1;33m\u001b[0m\u001b[0m\n\u001b[0m",
      "\u001b[1;31mValueError\u001b[0m: operands could not be broadcast together with shapes (2,3,5) (5,2,3) "
     ]
    }
   ],
   "source": [
    "#print(np.add(a, b))\n",
    "#No because while the amount of elements are the same, the length of each is different."
   ]
  },
  {
   "cell_type": "code",
   "execution_count": null,
   "metadata": {},
   "outputs": [],
   "source": [
    "#9. Transpose b so that it has the same structure of a (i.e. become a 2x3x5 array). Assign the transposed array to variable \"c\"."
   ]
  },
  {
   "cell_type": "code",
   "execution_count": 8,
   "metadata": {},
   "outputs": [
    {
     "name": "stdout",
     "output_type": "stream",
     "text": [
      "[[[1 1 1 1 1]\n",
      "  [1 1 1 1 1]\n",
      "  [1 1 1 1 1]]\n",
      "\n",
      " [[1 1 1 1 1]\n",
      "  [1 1 1 1 1]\n",
      "  [1 1 1 1 1]]]\n"
     ]
    }
   ],
   "source": [
    "c = b.transpose(1,2,0)\n",
    "print(c)"
   ]
  },
  {
   "cell_type": "code",
   "execution_count": null,
   "metadata": {},
   "outputs": [],
   "source": [
    "#10. Try to add a and c. Now it should work. Assign the sum to varialbe \"d\". But why does it work now?"
   ]
  },
  {
   "cell_type": "code",
   "execution_count": 9,
   "metadata": {},
   "outputs": [
    {
     "name": "stdout",
     "output_type": "stream",
     "text": [
      "[[[1.14529952 1.91957958 1.8353386  1.34309002 1.46975901]\n",
      "  [1.33506067 1.99302888 1.43797516 1.41539194 1.58377439]\n",
      "  [1.86238729 1.39274062 1.01937436 1.95649351 1.02630257]]\n",
      "\n",
      " [[1.79069506 1.81151549 1.63785293 1.27010148 1.03132061]\n",
      "  [1.86006589 1.99647372 1.21702181 1.17466725 1.85958838]\n",
      "  [1.97480268 1.70165186 1.72857595 1.79858948 1.03733132]]]\n"
     ]
    }
   ],
   "source": [
    "d = np.add(a,c)\n",
    "print(d)\n",
    "#It works because they are now on the same axis."
   ]
  },
  {
   "cell_type": "code",
   "execution_count": null,
   "metadata": {},
   "outputs": [],
   "source": [
    "#11. Print a and d. Notice the difference and relation of the two array in terms of the values? Explain."
   ]
  },
  {
   "cell_type": "code",
   "execution_count": 10,
   "metadata": {},
   "outputs": [
    {
     "name": "stdout",
     "output_type": "stream",
     "text": [
      "[[[0.14529952 0.91957958 0.8353386  0.34309002 0.46975901]\n",
      "  [0.33506067 0.99302888 0.43797516 0.41539194 0.58377439]\n",
      "  [0.86238729 0.39274062 0.01937436 0.95649351 0.02630257]]\n",
      "\n",
      " [[0.79069506 0.81151549 0.63785293 0.27010148 0.03132061]\n",
      "  [0.86006589 0.99647372 0.21702181 0.17466725 0.85958838]\n",
      "  [0.97480268 0.70165186 0.72857595 0.79858948 0.03733132]]]\n",
      "[[[1.14529952 1.91957958 1.8353386  1.34309002 1.46975901]\n",
      "  [1.33506067 1.99302888 1.43797516 1.41539194 1.58377439]\n",
      "  [1.86238729 1.39274062 1.01937436 1.95649351 1.02630257]]\n",
      "\n",
      " [[1.79069506 1.81151549 1.63785293 1.27010148 1.03132061]\n",
      "  [1.86006589 1.99647372 1.21702181 1.17466725 1.85958838]\n",
      "  [1.97480268 1.70165186 1.72857595 1.79858948 1.03733132]]]\n"
     ]
    }
   ],
   "source": [
    "print(a)\n",
    "print(d)\n",
    "#Everything in D is equal to everything in A plus 1."
   ]
  },
  {
   "cell_type": "code",
   "execution_count": null,
   "metadata": {},
   "outputs": [],
   "source": [
    "#12. Multiply a and c. Assign the result to e."
   ]
  },
  {
   "cell_type": "code",
   "execution_count": 11,
   "metadata": {},
   "outputs": [
    {
     "name": "stdout",
     "output_type": "stream",
     "text": [
      "[[[0.14529952 0.91957958 0.8353386  0.34309002 0.46975901]\n",
      "  [0.33506067 0.99302888 0.43797516 0.41539194 0.58377439]\n",
      "  [0.86238729 0.39274062 0.01937436 0.95649351 0.02630257]]\n",
      "\n",
      " [[0.79069506 0.81151549 0.63785293 0.27010148 0.03132061]\n",
      "  [0.86006589 0.99647372 0.21702181 0.17466725 0.85958838]\n",
      "  [0.97480268 0.70165186 0.72857595 0.79858948 0.03733132]]]\n"
     ]
    }
   ],
   "source": [
    "e = np.multiply(a,c)\n",
    "print(e)"
   ]
  },
  {
   "cell_type": "code",
   "execution_count": null,
   "metadata": {},
   "outputs": [],
   "source": [
    "#13. Does e equal to a? Why or why not?"
   ]
  },
  {
   "cell_type": "code",
   "execution_count": 32,
   "metadata": {},
   "outputs": [
    {
     "data": {
      "text/plain": [
       "array([[[ True,  True,  True,  True,  True],\n",
       "        [ True,  True,  True,  True,  True],\n",
       "        [ True,  True,  True,  True,  True]],\n",
       "\n",
       "       [[ True,  True,  True,  True,  True],\n",
       "        [ True,  True,  True,  True,  True],\n",
       "        [ True,  True,  True,  True,  True]]])"
      ]
     },
     "execution_count": 32,
     "metadata": {},
     "output_type": "execute_result"
    }
   ],
   "source": [
    "#Yes because multiplying anything by 1 changes nothing."
   ]
  },
  {
   "cell_type": "code",
   "execution_count": null,
   "metadata": {},
   "outputs": [],
   "source": [
    "#14. Identify the max, min, and mean values in d. Assign those values to variables \"d_max\", \"d_min\", and \"d_mean\""
   ]
  },
  {
   "cell_type": "code",
   "execution_count": 12,
   "metadata": {},
   "outputs": [
    {
     "name": "stdout",
     "output_type": "stream",
     "text": [
      "1.9964737173233384 1.019374361358449 1.5541950006049052\n"
     ]
    }
   ],
   "source": [
    "d_max = np.max(d)\n",
    "d_min = np.min(d)\n",
    "d_mean = np.mean(d)\n",
    "\n",
    "print(d_max, d_min, d_mean)"
   ]
  },
  {
   "cell_type": "code",
   "execution_count": null,
   "metadata": {},
   "outputs": [],
   "source": [
    "#15. Now we want to label the values in d. First create an empty array \"f\" with the same shape (i.e. 2x3x5) as d using `np.empty`."
   ]
  },
  {
   "cell_type": "code",
   "execution_count": 24,
   "metadata": {},
   "outputs": [],
   "source": [
    "f = np.empty((2,3,5))"
   ]
  },
  {
   "cell_type": "code",
   "execution_count": null,
   "metadata": {},
   "outputs": [],
   "source": [
    "#16. Populate the values in f. For each value in d, if it's larger than d_min but smaller than d_mean, assign 25 to the corresponding value in f.\n",
    "\"\"\"\n",
    "\n",
    "If a value in d is larger than d_mean but smaller than d_max, assign 75 to the corresponding value in f.\n",
    "If a value equals to d_mean, assign 50 to the corresponding value in f.\n",
    "Assign 0 to the corresponding value(s) in f for d_min in d.\n",
    "Assign 100 to the corresponding value(s) in f for d_max in d.\n",
    "In the end, f should have only the following values: 0, 25, 50, 75, and 100.\n",
    "Note: you don't have to use Numpy in this question.\n",
    "\"\"\"\n"
   ]
  },
  {
   "cell_type": "code",
   "execution_count": 59,
   "metadata": {},
   "outputs": [
    {
     "name": "stdout",
     "output_type": "stream",
     "text": [
      "0\n",
      "1\n"
     ]
    }
   ],
   "source": [
    "for idx, line in enumerate(d):\n",
    "    print(idx)\n",
    "#     if idx > d_mean and idx < d_max:\n",
    "#         f[idx] = 75\n",
    "#     if idx == d_mean:\n",
    "#         f[idx] = 50\n",
    "#     if idx == d_min:\n",
    "#         f[idx] = 0\n",
    "#     if idx == d_max:\n",
    "#         f[idx] = 100\n",
    "# print(f)"
   ]
  },
  {
   "cell_type": "code",
   "execution_count": 47,
   "metadata": {},
   "outputs": [
    {
     "name": "stdout",
     "output_type": "stream",
     "text": [
      "[[[  0.  75.  75.   0.   0.]\n",
      "  [  0.  75.   0.   0.  75.]\n",
      "  [ 75.   0.   0.  75.   0.]]\n",
      "\n",
      " [[ 75.  75.  75.   0.   0.]\n",
      "  [ 75. 100.   0.   0.  75.]\n",
      "  [ 75.  75.  75.  75.   0.]]]\n"
     ]
    }
   ],
   "source": [
    "for i in range(len(d)):\n",
    "    for j in range(len(d[i])):\n",
    "        for k in range(len(d[i][j])):\n",
    "                if d[i][j][k] > d_mean and d[i][j][k] < d_max:\n",
    "                    f[i][j][k] = 75\n",
    "                elif d[i][j][k] == d_mean:\n",
    "                    f[i][j][k] = 50\n",
    "                elif d[i][j][k] == d_min:\n",
    "                    f[i][j][k] = 0\n",
    "                elif d[i][j][k] == d_max:\n",
    "                    f[i][j][k] = 100\n",
    "                else:\n",
    "                    f[i][j][k] = 0\n",
    "print(f)"
   ]
  },
  {
   "cell_type": "code",
   "execution_count": null,
   "metadata": {},
   "outputs": [],
   "source": [
    "#17. Print d and f. Do you have your expected f?\n",
    "\n",
    "'''\n",
    "For instance, if your d is:\n",
    "array([[[1.85836099, 1.67064465, 1.62576044, 1.40243961, 1.88454931],\n",
    "        [1.75354326, 1.69403643, 1.36729252, 1.61415071, 1.12104981],\n",
    "        [1.72201435, 1.1862918 , 1.87078449, 1.7726778 , 1.88180042]],\n",
    "\n",
    "       [[1.44747908, 1.31673383, 1.02000951, 1.52218947, 1.97066381],\n",
    "        [1.79129243, 1.74983003, 1.96028037, 1.85166831, 1.65450881],\n",
    "        [1.18068344, 1.9587381 , 1.00656599, 1.93402165, 1.73514584]]])\n",
    "             \n",
    "Your f should be:\n",
    "array([[[ 75.,  75.,  75.,  25.,  75.],\n",
    "        [ 75.,  75.,  25.,  25.,  25.],\n",
    "        [ 75.,  25.,  75.,  75.,  75.]],\n",
    "\n",
    "       [[ 25.,  25.,  25.,  25., 100.],\n",
    "        [ 75.,  75.,  75.,  75.,  75.],\n",
    "        [ 25.,  75.,   0.,  75.,  75.]]])\n",
    "\"\"\"\n"
   ]
  },
  {
   "cell_type": "code",
   "execution_count": 48,
   "metadata": {},
   "outputs": [
    {
     "name": "stdout",
     "output_type": "stream",
     "text": [
      "[[[1.14529952 1.91957958 1.8353386  1.34309002 1.46975901]\n",
      "  [1.33506067 1.99302888 1.43797516 1.41539194 1.58377439]\n",
      "  [1.86238729 1.39274062 1.01937436 1.95649351 1.02630257]]\n",
      "\n",
      " [[1.79069506 1.81151549 1.63785293 1.27010148 1.03132061]\n",
      "  [1.86006589 1.99647372 1.21702181 1.17466725 1.85958838]\n",
      "  [1.97480268 1.70165186 1.72857595 1.79858948 1.03733132]]]\n",
      "[[[  0.  75.  75.   0.   0.]\n",
      "  [  0.  75.   0.   0.  75.]\n",
      "  [ 75.   0.   0.  75.   0.]]\n",
      "\n",
      " [[ 75.  75.  75.   0.   0.]\n",
      "  [ 75. 100.   0.   0.  75.]\n",
      "  [ 75.  75.  75.  75.   0.]]]\n"
     ]
    }
   ],
   "source": [
    "print(d)\n",
    "print(f)"
   ]
  },
  {
   "cell_type": "code",
   "execution_count": null,
   "metadata": {},
   "outputs": [],
   "source": [
    "#18. Bonus question: instead of using numbers (i.e. 0, 25, 50, 75, and 100), how to use string values \n",
    "\n",
    "'''\n",
    "(\"A\", \"B\", \"C\", \"D\", and \"E\") to label the array elements? You are expecting the result to be:\n",
    "array([[[ 'D',  'D',  'D',  'B',  'D'],\n",
    "        [ 'D',  'D',  'B',  'B',  'B'],\n",
    "        [ 'D',  'B',  'D',  'D',  'D']],\n",
    "\n",
    "       [[ 'B',  'B',  'B',  'B',  'E'],\n",
    "        [ 'D',  'D',  'D',  'D',  'D'],\n",
    "        [ 'B',  'D',   'A',  'D', 'D']]])\n",
    "Again, you don't need Numpy in this question.\n",
    "'''"
   ]
  },
  {
   "cell_type": "code",
   "execution_count": 61,
   "metadata": {},
   "outputs": [
    {
     "name": "stdout",
     "output_type": "stream",
     "text": [
      "[[['B' 'D' 'D' 'B' 'B']\n",
      "  ['B' 'D' 'B' 'B' 'D']\n",
      "  ['D' 'B' 'A' 'D' 'B']]\n",
      "\n",
      " [['75.0' '75.0' '75.0' '0.0' '0.0']\n",
      "  ['75.0' '100.0' '0.0' '0.0' '75.0']\n",
      "  ['75.0' '75.0' '75.0' '75.0' '0.0']]]\n",
      "[[['B' 'D' 'D' 'B' 'B']\n",
      "  ['B' 'D' 'B' 'B' 'D']\n",
      "  ['D' 'B' 'A' 'D' 'B']]\n",
      "\n",
      " [['D' 'D' 'D' 'B' 'B']\n",
      "  ['D' 'E' 'B' 'B' 'D']\n",
      "  ['D' 'D' 'D' 'D' 'B']]]\n"
     ]
    }
   ],
   "source": [
    "g = f.copy().astype(str)\n",
    "\n",
    "for i in range(len(d)):\n",
    "   for j in range(len(d[i])):\n",
    "       for k in range(len(d[i][j])):\n",
    "           if d[i][j][k] > d_min and d[i][j][k] < d_mean:\n",
    "               g[i][j][k] ='B'\n",
    "           elif d[i][j][k]> d_mean and d[i][j][k] <d_max:\n",
    "               g[i][j][k] = 'D'\n",
    "           elif d[i][j][k] == d_mean:\n",
    "               g[i][j][k] ='C'\n",
    "           elif d[i][j][k] == d_min:\n",
    "               g[i][j][k]='A'\n",
    "           elif d[i][j][k] == d_max:\n",
    "               g[i][j][k]='E'\n",
    "           else:\n",
    "               g[i][j][k]=0\n",
    "   print(g)"
   ]
  },
  {
   "cell_type": "code",
   "execution_count": null,
   "metadata": {},
   "outputs": [],
   "source": []
  }
 ],
 "metadata": {
  "kernelspec": {
   "display_name": "Python 3",
   "language": "python",
   "name": "python3"
  },
  "language_info": {
   "codemirror_mode": {
    "name": "ipython",
    "version": 3
   },
   "file_extension": ".py",
   "mimetype": "text/x-python",
   "name": "python",
   "nbconvert_exporter": "python",
   "pygments_lexer": "ipython3",
   "version": "3.7.3"
  }
 },
 "nbformat": 4,
 "nbformat_minor": 2
}
