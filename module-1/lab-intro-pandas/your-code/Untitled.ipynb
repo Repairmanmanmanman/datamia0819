{
 "cells": [
  {
   "cell_type": "code",
   "execution_count": 3,
   "metadata": {},
   "outputs": [],
   "source": [
    "import pandas as pd\n",
    "import numpy as np\n",
    "import random as rng\n"
   ]
  },
  {
   "cell_type": "code",
   "execution_count": 28,
   "metadata": {},
   "outputs": [],
   "source": [
    "def d(x):\n",
    "    x = rng.randint(1,x)\n",
    "    return x"
   ]
  },
  {
   "cell_type": "code",
   "execution_count": 29,
   "metadata": {},
   "outputs": [
    {
     "data": {
      "text/plain": [
       "0     3\n",
       "1     3\n",
       "2     4\n",
       "3     1\n",
       "4     5\n",
       "5     4\n",
       "6     6\n",
       "7     1\n",
       "8     2\n",
       "9     3\n",
       "10    1\n",
       "11    2\n",
       "12    2\n",
       "13    4\n",
       "14    5\n",
       "15    2\n",
       "16    5\n",
       "17    2\n",
       "18    5\n",
       "19    3\n",
       "20    3\n",
       "21    4\n",
       "22    2\n",
       "23    1\n",
       "24    3\n",
       "25    5\n",
       "26    3\n",
       "27    5\n",
       "28    6\n",
       "29    3\n",
       "     ..\n",
       "70    6\n",
       "71    4\n",
       "72    4\n",
       "73    4\n",
       "74    5\n",
       "75    2\n",
       "76    6\n",
       "77    1\n",
       "78    5\n",
       "79    2\n",
       "80    5\n",
       "81    4\n",
       "82    5\n",
       "83    5\n",
       "84    3\n",
       "85    6\n",
       "86    4\n",
       "87    6\n",
       "88    1\n",
       "89    1\n",
       "90    1\n",
       "91    3\n",
       "92    6\n",
       "93    3\n",
       "94    3\n",
       "95    1\n",
       "96    6\n",
       "97    6\n",
       "98    6\n",
       "99    6\n",
       "Length: 100, dtype: int64"
      ]
     },
     "execution_count": 29,
     "metadata": {},
     "output_type": "execute_result"
    }
   ],
   "source": [
    "input = []\n",
    "for i in range(100):\n",
    "    input.append(d(6))\n",
    "dieroll = pd.Series(input)"
   ]
  },
  {
   "cell_type": "code",
   "execution_count": 23,
   "metadata": {},
   "outputs": [
    {
     "ename": "TypeError",
     "evalue": "'int' object is not callable",
     "output_type": "error",
     "traceback": [
      "\u001b[1;31m---------------------------------------------------------------------------\u001b[0m",
      "\u001b[1;31mTypeError\u001b[0m                                 Traceback (most recent call last)",
      "\u001b[1;32m<ipython-input-23-09534e2ca7e1>\u001b[0m in \u001b[0;36m<module>\u001b[1;34m\u001b[0m\n\u001b[1;32m----> 1\u001b[1;33m \u001b[0mpd\u001b[0m\u001b[1;33m.\u001b[0m\u001b[0mSeries\u001b[0m\u001b[1;33m(\u001b[0m\u001b[0md\u001b[0m\u001b[1;33m(\u001b[0m\u001b[1;36m6\u001b[0m\u001b[1;33m)\u001b[0m\u001b[1;33m(\u001b[0m\u001b[1;36m100\u001b[0m\u001b[1;33m)\u001b[0m\u001b[1;33m)\u001b[0m\u001b[1;33m\u001b[0m\u001b[1;33m\u001b[0m\u001b[0m\n\u001b[0m",
      "\u001b[1;31mTypeError\u001b[0m: 'int' object is not callable"
     ]
    }
   ],
   "source": [
    "pd.Series(d(6)(100))"
   ]
  },
  {
   "cell_type": "code",
   "execution_count": null,
   "metadata": {},
   "outputs": [],
   "source": []
  }
 ],
 "metadata": {
  "kernelspec": {
   "display_name": "Python 3",
   "language": "python",
   "name": "python3"
  },
  "language_info": {
   "codemirror_mode": {
    "name": "ipython",
    "version": 3
   },
   "file_extension": ".py",
   "mimetype": "text/x-python",
   "name": "python",
   "nbconvert_exporter": "python",
   "pygments_lexer": "ipython3",
   "version": "3.7.3"
  }
 },
 "nbformat": 4,
 "nbformat_minor": 2
}
