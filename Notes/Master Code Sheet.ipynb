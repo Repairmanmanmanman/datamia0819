{
 "cells": [
  {
   "cell_type": "code",
   "execution_count": null,
   "metadata": {},
   "outputs": [],
   "source": [
    "#How to create a function to access an API that I have credenditals for:"
   ]
  },
  {
   "cell_type": "code",
   "execution_count": null,
   "metadata": {},
   "outputs": [],
   "source": [
    "import requests\n",
    "import pandas as pd\n",
    "import getpass\n",
    "import json\n",
    "\n",
    "#AUTHENTICATION\n",
    "\n",
    "username = 'Repairmanmanmanman' #My GitHub username\n",
    "token = getpass.getpass(prompt='Token:', stream=None)\n",
    "\n",
    "#Create a re-usable session object with the user creds in-built\n",
    "gh_session = requests.Session()\n",
    "gh_session.auth = (username, token)\n",
    "\n",
    "token = '54516396e222fc1b108c4e4729edb9621a0175c4' #my token\n",
    "url = 'https://api.github.com' + '/repos/ironhack-datalabs/datamia0819/forks'\n",
    "request = requests.get(url, auth=gh_session.auth) #Use my created session\n",
    "json = request.json()\n",
    "json"
   ]
  },
  {
   "cell_type": "code",
   "execution_count": null,
   "metadata": {},
   "outputs": [],
   "source": [
    "#How to define a function:"
   ]
  },
  {
   "cell_type": "code",
   "execution_count": null,
   "metadata": {},
   "outputs": [],
   "source": []
  }
 ],
 "metadata": {
  "kernelspec": {
   "display_name": "Python 3",
   "language": "python",
   "name": "python3"
  },
  "language_info": {
   "codemirror_mode": {
    "name": "ipython",
    "version": 3
   },
   "file_extension": ".py",
   "mimetype": "text/x-python",
   "name": "python",
   "nbconvert_exporter": "python",
   "pygments_lexer": "ipython3",
   "version": "3.7.3"
  }
 },
 "nbformat": 4,
 "nbformat_minor": 2
}
