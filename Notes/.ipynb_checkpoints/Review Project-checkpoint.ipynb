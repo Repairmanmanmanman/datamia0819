{
 "cells": [
  {
   "cell_type": "code",
   "execution_count": 76,
   "metadata": {},
   "outputs": [
    {
     "ename": "ModuleNotFoundError",
     "evalue": "No module named 'BS4'",
     "output_type": "error",
     "traceback": [
      "\u001b[1;31m---------------------------------------------------------------------------\u001b[0m",
      "\u001b[1;31mModuleNotFoundError\u001b[0m                       Traceback (most recent call last)",
      "\u001b[1;32m<ipython-input-76-47f305244451>\u001b[0m in \u001b[0;36m<module>\u001b[1;34m\u001b[0m\n\u001b[0;32m      4\u001b[0m \u001b[1;32mimport\u001b[0m \u001b[0mrequests\u001b[0m \u001b[1;32mas\u001b[0m \u001b[0mr\u001b[0m\u001b[1;33m\u001b[0m\u001b[1;33m\u001b[0m\u001b[0m\n\u001b[0;32m      5\u001b[0m \u001b[1;32mimport\u001b[0m \u001b[0mre\u001b[0m\u001b[1;33m\u001b[0m\u001b[1;33m\u001b[0m\u001b[0m\n\u001b[1;32m----> 6\u001b[1;33m \u001b[1;32mimport\u001b[0m \u001b[0mBS4\u001b[0m \u001b[1;32mas\u001b[0m \u001b[0mbs\u001b[0m\u001b[1;33m\u001b[0m\u001b[1;33m\u001b[0m\u001b[0m\n\u001b[0m",
      "\u001b[1;31mModuleNotFoundError\u001b[0m: No module named 'BS4'"
     ]
    }
   ],
   "source": [
    "#import\n",
    "import pandas as pd\n",
    "import numpy as np\n",
    "import requests as r\n",
    "import re\n"
   ]
  },
  {
   "cell_type": "code",
   "execution_count": 22,
   "metadata": {},
   "outputs": [],
   "source": [
    "#1. Go to YouTube and get all video links.\n",
    "\n",
    "string = str(r.get('https://www.youtube.com/').content)\n",
    "paths = re.findall('/watch\\?v=.{11}', string)\n",
    "links = ['https://www.youtube.com'+path for path in paths]\n",
    "\n",
    "#links will attach the url found in paths to the end of the link for youtube. The loop will run through all responses."
   ]
  },
  {
   "cell_type": "code",
   "execution_count": 23,
   "metadata": {},
   "outputs": [
    {
     "data": {
      "text/plain": [
       "['/watch?v=FLTOiQ8gXp4',\n",
       " '/watch?v=FLTOiQ8gXp4',\n",
       " '/watch?v=nNhYqLbsAGk',\n",
       " '/watch?v=nNhYqLbsAGk',\n",
       " '/watch?v=3aUj5ilB0jw',\n",
       " '/watch?v=3aUj5ilB0jw',\n",
       " '/watch?v=RDb1MGsyY5I',\n",
       " '/watch?v=RDb1MGsyY5I',\n",
       " '/watch?v=NQEzIrC6bCs',\n",
       " '/watch?v=NQEzIrC6bCs',\n",
       " '/watch?v=8RmvFk2mp2g',\n",
       " '/watch?v=8RmvFk2mp2g',\n",
       " '/watch?v=Geyg_F5pfHE',\n",
       " '/watch?v=Geyg_F5pfHE',\n",
       " '/watch?v=nfcAHfDuNzw',\n",
       " '/watch?v=nfcAHfDuNzw',\n",
       " '/watch?v=8mzAUslN4wY',\n",
       " '/watch?v=8mzAUslN4wY',\n",
       " '/watch?v=uc-_KXfHcXQ',\n",
       " '/watch?v=uc-_KXfHcXQ',\n",
       " '/watch?v=sDHYyEp-PbY',\n",
       " '/watch?v=sDHYyEp-PbY',\n",
       " '/watch?v=XRiUNPf-_-4',\n",
       " '/watch?v=XRiUNPf-_-4',\n",
       " '/watch?v=fhMma6QzR3E',\n",
       " '/watch?v=fhMma6QzR3E',\n",
       " '/watch?v=BK7ojj5H72A',\n",
       " '/watch?v=BK7ojj5H72A',\n",
       " '/watch?v=VZiVePJCpZI',\n",
       " '/watch?v=VZiVePJCpZI',\n",
       " '/watch?v=_JZxFm4MXMI',\n",
       " '/watch?v=_JZxFm4MXMI',\n",
       " '/watch?v=KoQNrb1eiLk',\n",
       " '/watch?v=KoQNrb1eiLk',\n",
       " '/watch?v=7kpDA8wgOrU',\n",
       " '/watch?v=7kpDA8wgOrU',\n",
       " '/watch?v=1M2GhWcJ9Rk',\n",
       " '/watch?v=1M2GhWcJ9Rk',\n",
       " '/watch?v=ijteCRV53eQ',\n",
       " '/watch?v=ijteCRV53eQ',\n",
       " '/watch?v=8l2EjG7AZeA',\n",
       " '/watch?v=8l2EjG7AZeA',\n",
       " '/watch?v=TrbemgJVwL8',\n",
       " '/watch?v=TrbemgJVwL8',\n",
       " '/watch?v=Dpjuu_GY92w',\n",
       " '/watch?v=Dpjuu_GY92w',\n",
       " '/watch?v=O-2cXh1rfQY',\n",
       " '/watch?v=O-2cXh1rfQY',\n",
       " '/watch?v=m97ITC113H4',\n",
       " '/watch?v=m97ITC113H4',\n",
       " '/watch?v=-W0Du80k6Tw',\n",
       " '/watch?v=-W0Du80k6Tw',\n",
       " '/watch?v=IcDI1iWmIp8',\n",
       " '/watch?v=IcDI1iWmIp8',\n",
       " '/watch?v=3tyYsfl4DlA',\n",
       " '/watch?v=3tyYsfl4DlA',\n",
       " '/watch?v=x5nEb-7UKZI',\n",
       " '/watch?v=x5nEb-7UKZI',\n",
       " '/watch?v=jj1VYZsZUG8',\n",
       " '/watch?v=jj1VYZsZUG8',\n",
       " '/watch?v=GtM_sIvRlDM',\n",
       " '/watch?v=GtM_sIvRlDM',\n",
       " '/watch?v=sf0Vt0Bz-9g',\n",
       " '/watch?v=sf0Vt0Bz-9g',\n",
       " '/watch?v=fb0mghu9Lbw',\n",
       " '/watch?v=fb0mghu9Lbw',\n",
       " '/watch?v=C1y8N0ePuF8',\n",
       " '/watch?v=C1y8N0ePuF8',\n",
       " '/watch?v=fX2mth3ERR0',\n",
       " '/watch?v=fX2mth3ERR0',\n",
       " '/watch?v=eZe4Q_58UTU',\n",
       " '/watch?v=eZe4Q_58UTU',\n",
       " '/watch?v=cGE0S3V9uSc',\n",
       " '/watch?v=cGE0S3V9uSc',\n",
       " '/watch?v=vET-xm6dH1Y',\n",
       " '/watch?v=vET-xm6dH1Y',\n",
       " '/watch?v=IuMPmSOJtZc',\n",
       " '/watch?v=IuMPmSOJtZc',\n",
       " '/watch?v=zp0rHdXHKSI',\n",
       " '/watch?v=zp0rHdXHKSI',\n",
       " '/watch?v=XP2qcrg99rQ',\n",
       " '/watch?v=XP2qcrg99rQ',\n",
       " '/watch?v=Ofbso2REquw',\n",
       " '/watch?v=Ofbso2REquw',\n",
       " '/watch?v=Z1pVNs3jAjg',\n",
       " '/watch?v=Z1pVNs3jAjg',\n",
       " '/watch?v=e3eUvN1dQlg',\n",
       " '/watch?v=e3eUvN1dQlg',\n",
       " '/watch?v=D6ofntAso_o',\n",
       " '/watch?v=D6ofntAso_o',\n",
       " '/watch?v=dCsr0CNqB3g',\n",
       " '/watch?v=dCsr0CNqB3g',\n",
       " '/watch?v=cZmL0uJjOpk',\n",
       " '/watch?v=cZmL0uJjOpk',\n",
       " '/watch?v=_dioP4Vn8E4',\n",
       " '/watch?v=_dioP4Vn8E4',\n",
       " '/watch?v=MmJFJ-PYS2A',\n",
       " '/watch?v=MmJFJ-PYS2A',\n",
       " '/watch?v=cCCwX5lHSlQ',\n",
       " '/watch?v=cCCwX5lHSlQ',\n",
       " '/watch?v=u1Wct1FJaiE',\n",
       " '/watch?v=u1Wct1FJaiE',\n",
       " '/watch?v=oZ0JUVd-iQU',\n",
       " '/watch?v=oZ0JUVd-iQU',\n",
       " '/watch?v=WcWbUIQMxXE',\n",
       " '/watch?v=WcWbUIQMxXE',\n",
       " '/watch?v=Trnbv4d-JBs',\n",
       " '/watch?v=Trnbv4d-JBs',\n",
       " '/watch?v=o0zjRGRYEhk',\n",
       " '/watch?v=o0zjRGRYEhk',\n",
       " '/watch?v=e-kU0FPwXSc',\n",
       " '/watch?v=e-kU0FPwXSc',\n",
       " '/watch?v=NCXhSnw6ldU',\n",
       " '/watch?v=NCXhSnw6ldU',\n",
       " '/watch?v=MdLqmBeBxjs',\n",
       " '/watch?v=MdLqmBeBxjs',\n",
       " '/watch?v=w_IINnpSjY8',\n",
       " '/watch?v=w_IINnpSjY8',\n",
       " '/watch?v=cx_SJOuYjls',\n",
       " '/watch?v=cx_SJOuYjls',\n",
       " '/watch?v=qaI4psAJ58c',\n",
       " '/watch?v=qaI4psAJ58c',\n",
       " '/watch?v=OM6xvpzqCUA',\n",
       " '/watch?v=OM6xvpzqCUA',\n",
       " '/watch?v=wV3N-wCRL2k',\n",
       " '/watch?v=wV3N-wCRL2k',\n",
       " '/watch?v=VSfoV_xrh78',\n",
       " '/watch?v=VSfoV_xrh78',\n",
       " '/watch?v=P7zW53OuvMg',\n",
       " '/watch?v=P7zW53OuvMg']"
      ]
     },
     "execution_count": 23,
     "metadata": {},
     "output_type": "execute_result"
    }
   ],
   "source": [
    "#2. Go to each video link and retreive:\n",
    "# views\n",
    "# thumbs up and down\n",
    "# category\n",
    "# title\n",
    "# all video links\n",
    "\n",
    "re.findall('/watch\\?v=.{11}', string)\n",
    "#I am looking for every link which begins with /watch?v= and then 11 random characters. This regex looks at\n",
    "#/watch \\? means the question mark. The v= is part of the string and then the . means wildcard up to [11] characters."
   ]
  },
  {
   "cell_type": "code",
   "execution_count": 31,
   "metadata": {},
   "outputs": [],
   "source": [
    "#Go to each video link and retrieve links\n",
    "\n",
    "def vid_links(link):\n",
    "    string = str(r.get('https://www.youtube.com/').content)\n",
    "    paths = re.findall('/watch\\?v=.{11}', string)\n",
    "    links = ['https://www.youtube.com'+path for path in paths]\n",
    "    return links\n",
    "\n",
    "string = str(r.get(links[0]).content)"
   ]
  },
  {
   "cell_type": "code",
   "execution_count": 47,
   "metadata": {},
   "outputs": [
    {
     "data": {
      "text/plain": [
       "'https://www.youtube.com/watch?v=FLTOiQ8gXp4'"
      ]
     },
     "execution_count": 47,
     "metadata": {},
     "output_type": "execute_result"
    }
   ],
   "source": [
    "#vid_links(string)\n",
    "links[0]"
   ]
  },
  {
   "cell_type": "code",
   "execution_count": 48,
   "metadata": {},
   "outputs": [
    {
     "data": {
      "text/plain": [
       "['view-count\">4,101,185 ',\n",
       " 'view-count\">37,493,066 ',\n",
       " 'view-count\">1,220,568 ',\n",
       " 'view-count\">43,859,001 ',\n",
       " 'view-count\">7,126,987 ',\n",
       " 'view-count\">1,332,839 ',\n",
       " 'view-count\">3,999,318 ',\n",
       " 'view-count\">11,476,501 ',\n",
       " 'view-count\">1,091,708 ',\n",
       " 'view-count\">1,930,106 ',\n",
       " 'view-count\">677,935 ',\n",
       " 'view-count\">6,976,894 ',\n",
       " 'view-count\">55,011,171 ',\n",
       " 'view-count\">498,597 ',\n",
       " 'view-count\">5,964,224 ',\n",
       " 'view-count\">10,396,802 ',\n",
       " 'view-count\">53,494,345 ',\n",
       " 'view-count\">66,515,410 ',\n",
       " 'view-count\">957,035 ',\n",
       " 'view-count\">9,205,590 ',\n",
       " 'view-count\">8,541,579 ']"
      ]
     },
     "execution_count": 48,
     "metadata": {},
     "output_type": "execute_result"
    }
   ],
   "source": [
    "string1 = str(r.get('https://www.youtube.com/watch?v=FLTOiQ8gXp4').content)\n",
    "search = re.findall('view-count.{1,15} ', string1)\n",
    "search"
   ]
  },
  {
   "cell_type": "code",
   "execution_count": 77,
   "metadata": {},
   "outputs": [],
   "source": [
    "def view_count(link):\n",
    "        string = str(r.get(link).content)\n",
    "        search = re.findall('view-count.{1,15} ', string)\n",
    "        view_count = int(search.strip().lstrip('view-count\">').replace(',',''))\n",
    "        return view_count\n"
   ]
  },
  {
   "cell_type": "code",
   "execution_count": null,
   "metadata": {},
   "outputs": [],
   "source": [
    "#My task = find the time stamps of each video on the page.\n",
    "\n",
    "string = str(r.get('https://www.youtube.com/').content)\n",
    "paths = re.findall('/watch\\?v=.{11}', string)\n",
    "links = ['https://www.youtube.com'+path for path in paths]"
   ]
  },
  {
   "cell_type": "code",
   "execution_count": 124,
   "metadata": {
    "scrolled": true
   },
   "outputs": [],
   "source": [
    "attempt = str(r.get('https://www.youtube.com/watch?v=A8Eu1nTldsU&t=2s').content)\n",
    "\n",
    "timestamp = re.findall('approxDuration.{1,20}', attempt)\n",
    "\n",
    "seconds = int(re.sub(\"\\D\", \"\", timestamp[0]))\n",
    "#seconds\n",
    "\n",
    "def length(link):\n",
    "    string = str(r.get(link).content)\n",
    "    timestamp = re.findall('approxDuration.{1,20}', string)\n",
    "    MS = int(re.sub(\"\\D\", \"\", timestamp[0]))\n",
    "    seconds = MS/1000\n",
    "    return seconds\n",
    "#for i in timestamp:\n",
    "    #re.sub(\"\\D\", \"\", timestamp[i])"
   ]
  },
  {
   "cell_type": "code",
   "execution_count": 123,
   "metadata": {},
   "outputs": [
    {
     "data": {
      "text/plain": [
       "614.957"
      ]
     },
     "execution_count": 123,
     "metadata": {},
     "output_type": "execute_result"
    }
   ],
   "source": [
    "length('https://www.youtube.com/watch?v=A8Eu1nTldsU&t=2s')"
   ]
  },
  {
   "cell_type": "code",
   "execution_count": null,
   "metadata": {},
   "outputs": [],
   "source": []
  }
 ],
 "metadata": {
  "kernelspec": {
   "display_name": "Python 3",
   "language": "python",
   "name": "python3"
  },
  "language_info": {
   "codemirror_mode": {
    "name": "ipython",
    "version": 3
   },
   "file_extension": ".py",
   "mimetype": "text/x-python",
   "name": "python",
   "nbconvert_exporter": "python",
   "pygments_lexer": "ipython3",
   "version": "3.7.3"
  }
 },
 "nbformat": 4,
 "nbformat_minor": 2
}
